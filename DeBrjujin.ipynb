{
  "nbformat": 4,
  "nbformat_minor": 0,
  "metadata": {
    "colab": {
      "name": "DeBrjujin.ipynb",
      "provenance": [],
      "authorship_tag": "ABX9TyOVfjBsLkSdfcUbeLs1HFYV",
      "include_colab_link": true
    },
    "kernelspec": {
      "name": "python3",
      "display_name": "Python 3"
    },
    "language_info": {
      "name": "python"
    }
  },
  "cells": [
    {
      "cell_type": "markdown",
      "metadata": {
        "id": "view-in-github",
        "colab_type": "text"
      },
      "source": [
        "<a href=\"https://colab.research.google.com/github/pavithranair/Genome-Polymorphism-Detection/blob/main/DeBrjujin.ipynb\" target=\"_parent\"><img src=\"https://colab.research.google.com/assets/colab-badge.svg\" alt=\"Open In Colab\"/></a>"
      ]
    },
    {
      "cell_type": "code",
      "execution_count": 1,
      "metadata": {
        "colab": {
          "base_uri": "https://localhost:8080/"
        },
        "id": "mEaPiu0p8K-C",
        "outputId": "d5730eed-0892-4e86-9697-80eac2c4b733"
      },
      "outputs": [
        {
          "output_type": "stream",
          "name": "stdout",
          "text": [
            "Collecting gvmagic\n",
            "  Downloading gvmagic-0.5.tar.gz (6.5 kB)\n",
            "Building wheels for collected packages: gvmagic\n",
            "  Building wheel for gvmagic (setup.py) ... \u001b[?25l\u001b[?25hdone\n",
            "  Created wheel for gvmagic: filename=gvmagic-0.5-py3-none-any.whl size=10470 sha256=4bf8211312d325113e9af1a675c1d9e99fa266aab4e47a720018bdb74edae2c5\n",
            "  Stored in directory: /root/.cache/pip/wheels/e5/ad/b2/2ba1aaaf5b2004d96473291c80f98d4524a01c6d6e9d468172\n",
            "Successfully built gvmagic\n",
            "Installing collected packages: gvmagic\n",
            "Successfully installed gvmagic-0.5\n"
          ]
        }
      ],
      "source": [
        "!pip install gvmagic"
      ]
    },
    {
      "cell_type": "code",
      "source": [
        "import networkx as nx\n",
        "import matplotlib.pyplot as plt\n",
        "import gvmagic\n",
        "    \n",
        "def prefix(kmer):\n",
        "    n = len(kmer)\n",
        "    return kmer[0:n-1]\n",
        "\n",
        "def suffix(kmer):\n",
        "    n = len(kmer)\n",
        "    return kmer[1:n]\n",
        "\n",
        "def kmer_composition(seq, k):\n",
        "    kmers = []\n",
        "    for i in range(len(seq)-k+1):\n",
        "        kmers.append(seq[i:i+k])\n",
        "    return kmers\n",
        "\n",
        "def reverse_lookup(rlookup, lidx, ridx):\n",
        "    key_list = list(rlookup.keys())\n",
        "    val_list = list(rlookup.values())\n",
        "    position = val_list.index(lidx)\n",
        "    lPos = key_list[position]\n",
        "    position = val_list.index(ridx)\n",
        "    rPos = key_list[position]\n",
        "    return lPos, rPos\n",
        "\n",
        "def visualize_debruijn(g):\n",
        "    nodes = set()\n",
        "    for elem in list(g.nodes(data=True)):\n",
        "        nodes.add(elem[0])\n",
        "    edges = list(g.edges())\n",
        "    dot_str= 'digraph \"DeBruijn graph\" {\\n '\n",
        "    for node in nodes:\n",
        "        dot_str += '    %s [label=\"%s\"] ;\\n' %(node,node)\n",
        "    for src,dst in edges:\n",
        "        dot_str += '    %s->%s;\\n' %(src,dst)\n",
        "    return dot_str + '}\\n'\n",
        "\n",
        "def CONSTRUCT(seq, k):\n",
        "    occs = {}\n",
        "    curidx = 0\n",
        "    g = nx.DiGraph()\n",
        "    rlookup = {}\n",
        "    kmers = kmer_composition(seq, k)\n",
        "    for kmer in kmers:\n",
        "        l = prefix(kmer)\n",
        "        if l not in occs.keys():\n",
        "            occs[l] = 0\n",
        "            rlookup[l] = 0\n",
        "        lidx = curidx\n",
        "        curidx += 1\n",
        "        occs[l] = occs[l] + 1\n",
        "        rlookup[l] = lidx\n",
        "        r = suffix(kmer)\n",
        "        if r not in occs.keys():\n",
        "            occs[r] = 0\n",
        "            rlookup[r] = 0\n",
        "        ridx = curidx\n",
        "        curidx += 1\n",
        "        occs[r] += 1\n",
        "        rlookup[r] = ridx\n",
        "        lPos, rPos = reverse_lookup(rlookup, lidx, ridx)\n",
        "        g.add_edge(lPos, rPos)\n",
        "    return occs, curidx, g, rlookup\n",
        "\n",
        "def APPEND(g, occs, curidx, seq, k, rlookup):\n",
        "    kmers = kmer_composition(seq, k)\n",
        "    for kmer in kmers:\n",
        "        l = prefix(kmer)\n",
        "        if l not in occs.keys():\n",
        "            occs[l] = 0\n",
        "        if occs[l] > 0:\n",
        "            lidx = rlookup[l]\n",
        "        else:\n",
        "            lidx = curidx\n",
        "            curidx += 1\n",
        "        r = suffix(kmer)\n",
        "        if r not in occs.keys():\n",
        "            occs[r] = 0\n",
        "        if occs[r] > 0:\n",
        "            ridx = rlookup[r]\n",
        "        else:\n",
        "            ridx = curidx\n",
        "            curidx += 1\n",
        "        lPos, rPos = reverse_lookup(rlookup, lidx, ridx)\n",
        "        g.add_edge(lPos, rPos)\n",
        "\n",
        "\n",
        "seq1 = \"ACTTACGTACTTG\"\n",
        "\n",
        "occs, curidx, g, rlookup = CONSTRUCT(seq1, 5)"
      ],
      "metadata": {
        "id": "0r_nzOfz8Noq"
      },
      "execution_count": 107,
      "outputs": []
    },
    {
      "cell_type": "code",
      "source": [
        "get_ipython().magic(u'load_ext gvmagic')"
      ],
      "metadata": {
        "colab": {
          "base_uri": "https://localhost:8080/"
        },
        "id": "PH3qSQ_P8YNt",
        "outputId": "bb7307cd-9465-40fe-d48a-cd30a73b1db8"
      },
      "execution_count": 108,
      "outputs": [
        {
          "output_type": "stream",
          "name": "stdout",
          "text": [
            "The gvmagic extension is already loaded. To reload it, use:\n",
            "  %reload_ext gvmagic\n"
          ]
        }
      ]
    },
    {
      "cell_type": "code",
      "source": [
        "get_ipython().magic(u'dotstr visualize_debruijn(g)')"
      ],
      "metadata": {
        "colab": {
          "base_uri": "https://localhost:8080/",
          "height": 752
        },
        "id": "L5bkj6T88iEm",
        "outputId": "357ddce1-5c00-49ed-e808-038833b3adcc"
      },
      "execution_count": 109,
      "outputs": [
        {
          "output_type": "display_data",
          "data": {
            "text/plain": [
              "<IPython.core.display.SVG object>"
            ],
            "image/svg+xml": "<svg height=\"548pt\" viewBox=\"0.00 0.00 200.14 548.00\" width=\"200pt\" xmlns=\"http://www.w3.org/2000/svg\" xmlns:xlink=\"http://www.w3.org/1999/xlink\">\n<g class=\"graph\" id=\"graph0\" transform=\"scale(1 1) rotate(0) translate(4 544)\">\n<title>DeBruijn graph</title>\n<polygon fill=\"#ffffff\" points=\"-4,4 -4,-544 196.1436,-544 196.1436,4 -4,4\" stroke=\"transparent\"/>\n<!-- ACGT -->\n<g class=\"node\" id=\"node1\">\n<title>ACGT</title>\n<ellipse cx=\"155.7468\" cy=\"-522\" fill=\"none\" rx=\"36.2938\" ry=\"18\" stroke=\"#000000\"/>\n<text fill=\"#000000\" font-family=\"Times,serif\" font-size=\"14.00\" text-anchor=\"middle\" x=\"155.7468\" y=\"-518.3\">ACGT</text>\n</g>\n<!-- CGTA -->\n<g class=\"node\" id=\"node3\">\n<title>CGTA</title>\n<ellipse cx=\"123.7468\" cy=\"-450\" fill=\"none\" rx=\"36.2938\" ry=\"18\" stroke=\"#000000\"/>\n<text fill=\"#000000\" font-family=\"Times,serif\" font-size=\"14.00\" text-anchor=\"middle\" x=\"123.7468\" y=\"-446.3\">CGTA</text>\n</g>\n<!-- ACGT&#45;&gt;CGTA -->\n<g class=\"edge\" id=\"edge6\">\n<title>ACGT-&gt;CGTA</title>\n<path d=\"M147.8367,-504.2022C144.1941,-496.0064 139.7923,-486.1024 135.7533,-477.0145\" fill=\"none\" stroke=\"#000000\"/>\n<polygon fill=\"#000000\" points=\"138.8257,-475.3096 131.566,-467.593 132.4291,-478.1527 138.8257,-475.3096\" stroke=\"#000000\"/>\n</g>\n<!-- ACTT -->\n<g class=\"node\" id=\"node2\">\n<title>ACTT</title>\n<ellipse cx=\"123.7468\" cy=\"-234\" fill=\"none\" rx=\"35.9954\" ry=\"18\" stroke=\"#000000\"/>\n<text fill=\"#000000\" font-family=\"Times,serif\" font-size=\"14.00\" text-anchor=\"middle\" x=\"123.7468\" y=\"-230.3\">ACTT</text>\n</g>\n<!-- CTTG -->\n<g class=\"node\" id=\"node7\">\n<title>CTTG</title>\n<ellipse cx=\"35.7468\" cy=\"-162\" fill=\"none\" rx=\"35.9954\" ry=\"18\" stroke=\"#000000\"/>\n<text fill=\"#000000\" font-family=\"Times,serif\" font-size=\"14.00\" text-anchor=\"middle\" x=\"35.7468\" y=\"-158.3\">CTTG</text>\n</g>\n<!-- ACTT&#45;&gt;CTTG -->\n<g class=\"edge\" id=\"edge2\">\n<title>ACTT-&gt;CTTG</title>\n<path d=\"M104.6521,-218.3771C92.3448,-208.3075 76.1613,-195.0663 62.5709,-183.947\" fill=\"none\" stroke=\"#000000\"/>\n<polygon fill=\"#000000\" points=\"64.4579,-180.9686 54.5019,-177.3451 60.0252,-186.3864 64.4579,-180.9686\" stroke=\"#000000\"/>\n</g>\n<!-- CTTA -->\n<g class=\"node\" id=\"node8\">\n<title>CTTA</title>\n<ellipse cx=\"124.7468\" cy=\"-162\" fill=\"none\" rx=\"35.194\" ry=\"18\" stroke=\"#000000\"/>\n<text fill=\"#000000\" font-family=\"Times,serif\" font-size=\"14.00\" text-anchor=\"middle\" x=\"124.7468\" y=\"-158.3\">CTTA</text>\n</g>\n<!-- ACTT&#45;&gt;CTTA -->\n<g class=\"edge\" id=\"edge1\">\n<title>ACTT-&gt;CTTA</title>\n<path d=\"M123.9992,-215.8314C124.1061,-208.131 124.2333,-198.9743 124.3522,-190.4166\" fill=\"none\" stroke=\"#000000\"/>\n<polygon fill=\"#000000\" points=\"127.8518,-190.4609 124.4911,-180.4133 120.8525,-190.3637 127.8518,-190.4609\" stroke=\"#000000\"/>\n</g>\n<!-- GTAC -->\n<g class=\"node\" id=\"node4\">\n<title>GTAC</title>\n<ellipse cx=\"123.7468\" cy=\"-378\" fill=\"none\" rx=\"36.2938\" ry=\"18\" stroke=\"#000000\"/>\n<text fill=\"#000000\" font-family=\"Times,serif\" font-size=\"14.00\" text-anchor=\"middle\" x=\"123.7468\" y=\"-374.3\">GTAC</text>\n</g>\n<!-- CGTA&#45;&gt;GTAC -->\n<g class=\"edge\" id=\"edge7\">\n<title>CGTA-&gt;GTAC</title>\n<path d=\"M123.7468,-431.8314C123.7468,-424.131 123.7468,-414.9743 123.7468,-406.4166\" fill=\"none\" stroke=\"#000000\"/>\n<polygon fill=\"#000000\" points=\"127.2469,-406.4132 123.7468,-396.4133 120.2469,-406.4133 127.2469,-406.4132\" stroke=\"#000000\"/>\n</g>\n<!-- TACT -->\n<g class=\"node\" id=\"node9\">\n<title>TACT</title>\n<ellipse cx=\"123.7468\" cy=\"-306\" fill=\"none\" rx=\"35.194\" ry=\"18\" stroke=\"#000000\"/>\n<text fill=\"#000000\" font-family=\"Times,serif\" font-size=\"14.00\" text-anchor=\"middle\" x=\"123.7468\" y=\"-302.3\">TACT</text>\n</g>\n<!-- GTAC&#45;&gt;TACT -->\n<g class=\"edge\" id=\"edge8\">\n<title>GTAC-&gt;TACT</title>\n<path d=\"M123.7468,-359.8314C123.7468,-352.131 123.7468,-342.9743 123.7468,-334.4166\" fill=\"none\" stroke=\"#000000\"/>\n<polygon fill=\"#000000\" points=\"127.2469,-334.4132 123.7468,-324.4133 120.2469,-334.4133 127.2469,-334.4132\" stroke=\"#000000\"/>\n</g>\n<!-- TACG -->\n<g class=\"node\" id=\"node5\">\n<title>TACG</title>\n<ellipse cx=\"155.7468\" cy=\"-18\" fill=\"none\" rx=\"36.2938\" ry=\"18\" stroke=\"#000000\"/>\n<text fill=\"#000000\" font-family=\"Times,serif\" font-size=\"14.00\" text-anchor=\"middle\" x=\"155.7468\" y=\"-14.3\">TACG</text>\n</g>\n<!-- TACG&#45;&gt;ACGT -->\n<g class=\"edge\" id=\"edge5\">\n<title>TACG-&gt;ACGT</title>\n<path d=\"M162.3772,-35.9012C171.7502,-62.8549 187.7468,-115.6462 187.7468,-162 187.7468,-378 187.7468,-378 187.7468,-378 187.7468,-419.2839 175.0581,-465.674 165.6609,-494.3696\" fill=\"none\" stroke=\"#000000\"/>\n<polygon fill=\"#000000\" points=\"162.2589,-493.5047 162.3772,-504.0988 168.8913,-495.7432 162.2589,-493.5047\" stroke=\"#000000\"/>\n</g>\n<!-- TTAC -->\n<g class=\"node\" id=\"node6\">\n<title>TTAC</title>\n<ellipse cx=\"124.7468\" cy=\"-90\" fill=\"none\" rx=\"35.194\" ry=\"18\" stroke=\"#000000\"/>\n<text fill=\"#000000\" font-family=\"Times,serif\" font-size=\"14.00\" text-anchor=\"middle\" x=\"124.7468\" y=\"-86.3\">TTAC</text>\n</g>\n<!-- TTAC&#45;&gt;TACG -->\n<g class=\"edge\" id=\"edge4\">\n<title>TTAC-&gt;TACG</title>\n<path d=\"M132.4098,-72.2022C135.9122,-64.0675 140.1391,-54.2501 144.0279,-45.2181\" fill=\"none\" stroke=\"#000000\"/>\n<polygon fill=\"#000000\" points=\"147.3247,-46.4115 148.0646,-35.8425 140.8953,-43.6433 147.3247,-46.4115\" stroke=\"#000000\"/>\n</g>\n<!-- CTTA&#45;&gt;TTAC -->\n<g class=\"edge\" id=\"edge3\">\n<title>CTTA-&gt;TTAC</title>\n<path d=\"M124.7468,-143.8314C124.7468,-136.131 124.7468,-126.9743 124.7468,-118.4166\" fill=\"none\" stroke=\"#000000\"/>\n<polygon fill=\"#000000\" points=\"128.2469,-118.4132 124.7468,-108.4133 121.2469,-118.4133 128.2469,-118.4132\" stroke=\"#000000\"/>\n</g>\n<!-- TACT&#45;&gt;ACTT -->\n<g class=\"edge\" id=\"edge9\">\n<title>TACT-&gt;ACTT</title>\n<path d=\"M123.7468,-287.8314C123.7468,-280.131 123.7468,-270.9743 123.7468,-262.4166\" fill=\"none\" stroke=\"#000000\"/>\n<polygon fill=\"#000000\" points=\"127.2469,-262.4132 123.7468,-252.4133 120.2469,-262.4133 127.2469,-262.4132\" stroke=\"#000000\"/>\n</g>\n</g>\n</svg>"
          },
          "metadata": {}
        }
      ]
    },
    {
      "cell_type": "code",
      "source": [
        "seq2 = \"ACTTACTTACT\"\n",
        "APPEND(g, occs, curidx, seq2, 5, rlookup)"
      ],
      "metadata": {
        "id": "ejX0OEpc8kc4"
      },
      "execution_count": 110,
      "outputs": []
    },
    {
      "cell_type": "code",
      "source": [
        "get_ipython().magic(u'dotstr visualize_debruijn(g)')"
      ],
      "metadata": {
        "colab": {
          "base_uri": "https://localhost:8080/",
          "height": 752
        },
        "id": "uWiIgNfoFdQ2",
        "outputId": "30ce8fbc-e7bc-479d-fdc4-ea703504f047"
      },
      "execution_count": 111,
      "outputs": [
        {
          "output_type": "display_data",
          "data": {
            "text/plain": [
              "<IPython.core.display.SVG object>"
            ],
            "image/svg+xml": "<svg height=\"548pt\" viewBox=\"0.00 0.00 219.72 548.00\" width=\"220pt\" xmlns=\"http://www.w3.org/2000/svg\" xmlns:xlink=\"http://www.w3.org/1999/xlink\">\n<g class=\"graph\" id=\"graph0\" transform=\"scale(1 1) rotate(0) translate(4 544)\">\n<title>DeBruijn graph</title>\n<polygon fill=\"#ffffff\" points=\"-4,4 -4,-544 215.7169,-544 215.7169,4 -4,4\" stroke=\"transparent\"/>\n<!-- ACGT -->\n<g class=\"node\" id=\"node1\">\n<title>ACGT</title>\n<ellipse cx=\"175.3201\" cy=\"-522\" fill=\"none\" rx=\"36.2938\" ry=\"18\" stroke=\"#000000\"/>\n<text fill=\"#000000\" font-family=\"Times,serif\" font-size=\"14.00\" text-anchor=\"middle\" x=\"175.3201\" y=\"-518.3\">ACGT</text>\n</g>\n<!-- CGTA -->\n<g class=\"node\" id=\"node3\">\n<title>CGTA</title>\n<ellipse cx=\"143.3201\" cy=\"-450\" fill=\"none\" rx=\"36.2938\" ry=\"18\" stroke=\"#000000\"/>\n<text fill=\"#000000\" font-family=\"Times,serif\" font-size=\"14.00\" text-anchor=\"middle\" x=\"143.3201\" y=\"-446.3\">CGTA</text>\n</g>\n<!-- ACGT&#45;&gt;CGTA -->\n<g class=\"edge\" id=\"edge7\">\n<title>ACGT-&gt;CGTA</title>\n<path d=\"M167.41,-504.2022C163.7674,-496.0064 159.3656,-486.1024 155.3265,-477.0145\" fill=\"none\" stroke=\"#000000\"/>\n<polygon fill=\"#000000\" points=\"158.399,-475.3096 151.1392,-467.593 152.0023,-478.1527 158.399,-475.3096\" stroke=\"#000000\"/>\n</g>\n<!-- ACTT -->\n<g class=\"node\" id=\"node2\">\n<title>ACTT</title>\n<ellipse cx=\"77.3201\" cy=\"-234\" fill=\"none\" rx=\"35.9954\" ry=\"18\" stroke=\"#000000\"/>\n<text fill=\"#000000\" font-family=\"Times,serif\" font-size=\"14.00\" text-anchor=\"middle\" x=\"77.3201\" y=\"-230.3\">ACTT</text>\n</g>\n<!-- CTTG -->\n<g class=\"node\" id=\"node7\">\n<title>CTTG</title>\n<ellipse cx=\"55.3201\" cy=\"-162\" fill=\"none\" rx=\"35.9954\" ry=\"18\" stroke=\"#000000\"/>\n<text fill=\"#000000\" font-family=\"Times,serif\" font-size=\"14.00\" text-anchor=\"middle\" x=\"55.3201\" y=\"-158.3\">CTTG</text>\n</g>\n<!-- ACTT&#45;&gt;CTTG -->\n<g class=\"edge\" id=\"edge2\">\n<title>ACTT-&gt;CTTG</title>\n<path d=\"M71.8819,-216.2022C69.4227,-208.1541 66.4603,-198.4588 63.7249,-189.5067\" fill=\"none\" stroke=\"#000000\"/>\n<polygon fill=\"#000000\" points=\"67.0415,-188.3833 60.772,-179.8425 60.347,-190.4289 67.0415,-188.3833\" stroke=\"#000000\"/>\n</g>\n<!-- CTTA -->\n<g class=\"node\" id=\"node8\">\n<title>CTTA</title>\n<ellipse cx=\"144.3201\" cy=\"-162\" fill=\"none\" rx=\"35.194\" ry=\"18\" stroke=\"#000000\"/>\n<text fill=\"#000000\" font-family=\"Times,serif\" font-size=\"14.00\" text-anchor=\"middle\" x=\"144.3201\" y=\"-158.3\">CTTA</text>\n</g>\n<!-- ACTT&#45;&gt;CTTA -->\n<g class=\"edge\" id=\"edge1\">\n<title>ACTT-&gt;CTTA</title>\n<path d=\"M92.5234,-217.6621C101.2611,-208.2723 112.3944,-196.3082 122.0983,-185.8802\" fill=\"none\" stroke=\"#000000\"/>\n<polygon fill=\"#000000\" points=\"124.9268,-187.9783 129.1769,-178.2733 119.8023,-183.2097 124.9268,-187.9783\" stroke=\"#000000\"/>\n</g>\n<!-- GTAC -->\n<g class=\"node\" id=\"node4\">\n<title>GTAC</title>\n<ellipse cx=\"99.3201\" cy=\"-378\" fill=\"none\" rx=\"36.2938\" ry=\"18\" stroke=\"#000000\"/>\n<text fill=\"#000000\" font-family=\"Times,serif\" font-size=\"14.00\" text-anchor=\"middle\" x=\"99.3201\" y=\"-374.3\">GTAC</text>\n</g>\n<!-- CGTA&#45;&gt;GTAC -->\n<g class=\"edge\" id=\"edge8\">\n<title>CGTA-&gt;GTAC</title>\n<path d=\"M132.6689,-432.5708C127.4264,-423.9922 121,-413.4762 115.1926,-403.9732\" fill=\"none\" stroke=\"#000000\"/>\n<polygon fill=\"#000000\" points=\"118.0742,-401.9764 109.8732,-395.2687 112.1012,-405.6266 118.0742,-401.9764\" stroke=\"#000000\"/>\n</g>\n<!-- TACT -->\n<g class=\"node\" id=\"node9\">\n<title>TACT</title>\n<ellipse cx=\"77.3201\" cy=\"-306\" fill=\"none\" rx=\"35.194\" ry=\"18\" stroke=\"#000000\"/>\n<text fill=\"#000000\" font-family=\"Times,serif\" font-size=\"14.00\" text-anchor=\"middle\" x=\"77.3201\" y=\"-302.3\">TACT</text>\n</g>\n<!-- GTAC&#45;&gt;TACT -->\n<g class=\"edge\" id=\"edge9\">\n<title>GTAC-&gt;TACT</title>\n<path d=\"M93.7686,-359.8314C91.3532,-351.9266 88.469,-342.4872 85.7951,-333.7365\" fill=\"none\" stroke=\"#000000\"/>\n<polygon fill=\"#000000\" points=\"89.0631,-332.4541 82.7936,-323.9134 82.3687,-334.4997 89.0631,-332.4541\" stroke=\"#000000\"/>\n</g>\n<!-- TACG -->\n<g class=\"node\" id=\"node5\">\n<title>TACG</title>\n<ellipse cx=\"175.3201\" cy=\"-18\" fill=\"none\" rx=\"36.2938\" ry=\"18\" stroke=\"#000000\"/>\n<text fill=\"#000000\" font-family=\"Times,serif\" font-size=\"14.00\" text-anchor=\"middle\" x=\"175.3201\" y=\"-14.3\">TACG</text>\n</g>\n<!-- TACG&#45;&gt;ACGT -->\n<g class=\"edge\" id=\"edge6\">\n<title>TACG-&gt;ACGT</title>\n<path d=\"M181.9505,-35.9012C191.3235,-62.8549 207.3201,-115.6462 207.3201,-162 207.3201,-378 207.3201,-378 207.3201,-378 207.3201,-419.2839 194.6314,-465.674 185.2341,-494.3696\" fill=\"none\" stroke=\"#000000\"/>\n<polygon fill=\"#000000\" points=\"181.8321,-493.5047 181.9505,-504.0988 188.4646,-495.7432 181.8321,-493.5047\" stroke=\"#000000\"/>\n</g>\n<!-- TTAC -->\n<g class=\"node\" id=\"node6\">\n<title>TTAC</title>\n<ellipse cx=\"144.3201\" cy=\"-90\" fill=\"none\" rx=\"35.194\" ry=\"18\" stroke=\"#000000\"/>\n<text fill=\"#000000\" font-family=\"Times,serif\" font-size=\"14.00\" text-anchor=\"middle\" x=\"144.3201\" y=\"-86.3\">TTAC</text>\n</g>\n<!-- TTAC&#45;&gt;TACG -->\n<g class=\"edge\" id=\"edge4\">\n<title>TTAC-&gt;TACG</title>\n<path d=\"M151.983,-72.2022C155.4855,-64.0675 159.7124,-54.2501 163.6012,-45.2181\" fill=\"none\" stroke=\"#000000\"/>\n<polygon fill=\"#000000\" points=\"166.8979,-46.4115 167.6379,-35.8425 160.4685,-43.6433 166.8979,-46.4115\" stroke=\"#000000\"/>\n</g>\n<!-- TTAC&#45;&gt;TACT -->\n<g class=\"edge\" id=\"edge5\">\n<title>TTAC-&gt;TACT</title>\n<path d=\"M109.586,-93.3388C77.7619,-98.4476 32.3549,-111.3636 10.3201,-144 -19.9518,-188.8366 24.1149,-249.5105 53.8824,-282.413\" fill=\"none\" stroke=\"#000000\"/>\n<polygon fill=\"#000000\" points=\"51.3481,-284.8274 60.7203,-289.7683 56.4749,-280.0612 51.3481,-284.8274\" stroke=\"#000000\"/>\n</g>\n<!-- CTTA&#45;&gt;TTAC -->\n<g class=\"edge\" id=\"edge3\">\n<title>CTTA-&gt;TTAC</title>\n<path d=\"M144.3201,-143.8314C144.3201,-136.131 144.3201,-126.9743 144.3201,-118.4166\" fill=\"none\" stroke=\"#000000\"/>\n<polygon fill=\"#000000\" points=\"147.8202,-118.4132 144.3201,-108.4133 140.8202,-118.4133 147.8202,-118.4132\" stroke=\"#000000\"/>\n</g>\n<!-- TACT&#45;&gt;ACTT -->\n<g class=\"edge\" id=\"edge10\">\n<title>TACT-&gt;ACTT</title>\n<path d=\"M77.3201,-287.8314C77.3201,-280.131 77.3201,-270.9743 77.3201,-262.4166\" fill=\"none\" stroke=\"#000000\"/>\n<polygon fill=\"#000000\" points=\"80.8202,-262.4132 77.3201,-252.4133 73.8202,-262.4133 80.8202,-262.4132\" stroke=\"#000000\"/>\n</g>\n</g>\n</svg>"
          },
          "metadata": {}
        }
      ]
    }
  ]
}