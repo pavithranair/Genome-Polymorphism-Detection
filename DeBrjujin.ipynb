{
  "nbformat": 4,
  "nbformat_minor": 0,
  "metadata": {
    "colab": {
      "name": "DeBrjujin.ipynb",
      "provenance": [],
      "authorship_tag": "ABX9TyPpaRAOCPTvu9X/VU+KOoBA",
      "include_colab_link": true
    },
    "kernelspec": {
      "name": "python3",
      "display_name": "Python 3"
    },
    "language_info": {
      "name": "python"
    }
  },
  "cells": [
    {
      "cell_type": "markdown",
      "metadata": {
        "id": "view-in-github",
        "colab_type": "text"
      },
      "source": [
        "<a href=\"https://colab.research.google.com/github/pavithranair/Genome-Polymorphism-Detection/blob/main/DeBrjujin.ipynb\" target=\"_parent\"><img src=\"https://colab.research.google.com/assets/colab-badge.svg\" alt=\"Open In Colab\"/></a>"
      ]
    },
    {
      "cell_type": "code",
      "execution_count": 2,
      "metadata": {
        "colab": {
          "base_uri": "https://localhost:8080/"
        },
        "id": "mEaPiu0p8K-C",
        "outputId": "0251c156-e170-4538-959f-443e09942769"
      },
      "outputs": [
        {
          "output_type": "stream",
          "name": "stdout",
          "text": [
            "Collecting gvmagic\n",
            "  Downloading gvmagic-0.5.tar.gz (6.5 kB)\n",
            "Building wheels for collected packages: gvmagic\n",
            "  Building wheel for gvmagic (setup.py) ... \u001b[?25l\u001b[?25hdone\n",
            "  Created wheel for gvmagic: filename=gvmagic-0.5-py3-none-any.whl size=10470 sha256=971e3b4558dd4891d2d87f2b329e8c1e1713975bb4e14d915a1ec632a24d2fd8\n",
            "  Stored in directory: /root/.cache/pip/wheels/e5/ad/b2/2ba1aaaf5b2004d96473291c80f98d4524a01c6d6e9d468172\n",
            "Successfully built gvmagic\n",
            "Installing collected packages: gvmagic\n",
            "Successfully installed gvmagic-0.5\n"
          ]
        }
      ],
      "source": [
        "!pip install gvmagic"
      ]
    },
    {
      "cell_type": "code",
      "source": [
        "import networkx as nx\n",
        "import gvmagic\n",
        "    \n",
        "def prefix(kmer):\n",
        "    n = len(kmer)\n",
        "    return kmer[0:n-1]\n",
        "\n",
        "def suffix(kmer):\n",
        "    n = len(kmer)\n",
        "    return kmer[1:n]\n",
        "\n",
        "def kmer_composition(seq, k):\n",
        "    kmers = []\n",
        "    for i in range(len(seq)-k+1):\n",
        "        kmers.append(seq[i:i+k])\n",
        "    return kmers\n",
        "\n",
        "def reverse_lookup(rlookup, lidx, ridx):\n",
        "    key_list = list(rlookup.keys())\n",
        "    val_list = list(rlookup.values())\n",
        "    position = val_list.index(lidx)\n",
        "    lPos = key_list[position]\n",
        "    position = val_list.index(ridx)\n",
        "    rPos = key_list[position]\n",
        "    return lPos, rPos\n",
        "\n",
        "def visualize_debruijn(g):\n",
        "    nodes = set()\n",
        "    for elem in list(g.nodes(data=True)):\n",
        "        nodes.add(elem[0])\n",
        "    edges = list(g.edges())\n",
        "    dot_str= 'digraph \"DeBruijn graph\" {\\n '\n",
        "    for node in nodes:\n",
        "        dot_str += '    %s [label=\"%s\"] ;\\n' %(node,node)\n",
        "    for src,dst in edges:\n",
        "        dot_str += '    %s->%s;\\n' %(src,dst)\n",
        "    return dot_str + '}\\n'\n",
        "\n",
        "def CONSTRUCT(seq, k):\n",
        "    occs = {}\n",
        "    curidx = 0\n",
        "    g = nx.DiGraph()\n",
        "    rlookup = {}\n",
        "    kmers = kmer_composition(seq, k)\n",
        "    for kmer in kmers:\n",
        "        l = prefix(kmer)\n",
        "        if l not in occs.keys():\n",
        "            occs[l] = 0\n",
        "            rlookup[l] = 0\n",
        "        lidx = curidx\n",
        "        curidx += 1\n",
        "        occs[l] = occs[l] + 1\n",
        "        rlookup[l] = lidx\n",
        "        r = suffix(kmer)\n",
        "        if r not in occs.keys():\n",
        "            occs[r] = 0\n",
        "            rlookup[r] = 0\n",
        "        ridx = curidx\n",
        "        curidx += 1\n",
        "        occs[r] += 1\n",
        "        rlookup[r] = ridx\n",
        "        lPos, rPos = reverse_lookup(rlookup, lidx, ridx)\n",
        "        g.add_edge(lPos, rPos)\n",
        "    return occs, curidx, g, rlookup\n",
        "\n",
        "def APPEND(g, occs, curidx, seq, k, rlookup):\n",
        "    kmers = kmer_composition(seq, k)\n",
        "    for kmer in kmers:\n",
        "        l = prefix(kmer)\n",
        "        if l not in occs.keys():\n",
        "            occs[l] = 0\n",
        "        if occs[l] > 0:\n",
        "            lidx = rlookup[l]\n",
        "        else:\n",
        "            lidx = curidx\n",
        "            curidx += 1\n",
        "        r = suffix(kmer)\n",
        "        if r not in occs.keys():\n",
        "            occs[r] = 0\n",
        "        if occs[r] > 0:\n",
        "            ridx = rlookup[r]\n",
        "        else:\n",
        "            ridx = curidx\n",
        "            curidx += 1\n",
        "        lPos, rPos = reverse_lookup(rlookup, lidx, ridx)\n",
        "        g.add_edge(lPos, rPos)\n",
        "\n",
        "\n",
        "seq1 = \"ACTTACGTACTTG\"\n",
        "\n",
        "occs, curidx, g, rlookup = CONSTRUCT(seq1, 5)"
      ],
      "metadata": {
        "id": "0r_nzOfz8Noq"
      },
      "execution_count": 21,
      "outputs": []
    },
    {
      "cell_type": "code",
      "source": [
        "get_ipython().magic(u'load_ext gvmagic')"
      ],
      "metadata": {
        "colab": {
          "base_uri": "https://localhost:8080/"
        },
        "id": "PH3qSQ_P8YNt",
        "outputId": "20f33888-bc2c-40f1-bfd3-b07436c0eced"
      },
      "execution_count": 17,
      "outputs": [
        {
          "output_type": "stream",
          "name": "stdout",
          "text": [
            "The gvmagic extension is already loaded. To reload it, use:\n",
            "  %reload_ext gvmagic\n"
          ]
        }
      ]
    },
    {
      "cell_type": "code",
      "source": [
        "get_ipython().magic(u'dotstr visualize_debruijn(g)')"
      ],
      "metadata": {
        "colab": {
          "base_uri": "https://localhost:8080/",
          "height": 752
        },
        "id": "L5bkj6T88iEm",
        "outputId": "ed6d846c-71eb-4649-fa90-688d85c866a8"
      },
      "execution_count": 18,
      "outputs": [
        {
          "output_type": "display_data",
          "data": {
            "text/plain": [
              "<IPython.core.display.SVG object>"
            ],
            "image/svg+xml": "<svg height=\"548pt\" viewBox=\"0.00 0.00 198.84 548.00\" width=\"199pt\" xmlns=\"http://www.w3.org/2000/svg\" xmlns:xlink=\"http://www.w3.org/1999/xlink\">\n<g class=\"graph\" id=\"graph0\" transform=\"scale(1 1) rotate(0) translate(4 544)\">\n<title>DeBruijn graph</title>\n<polygon fill=\"#ffffff\" points=\"-4,4 -4,-544 194.8437,-544 194.8437,4 -4,4\" stroke=\"transparent\"/>\n<!-- ACTT -->\n<g class=\"node\" id=\"node1\">\n<title>ACTT</title>\n<ellipse cx=\"124.7468\" cy=\"-522\" fill=\"none\" rx=\"35.9954\" ry=\"18\" stroke=\"#000000\"/>\n<text fill=\"#000000\" font-family=\"Times,serif\" font-size=\"14.00\" text-anchor=\"middle\" x=\"124.7468\" y=\"-518.3\">ACTT</text>\n</g>\n<!-- CTTG -->\n<g class=\"node\" id=\"node3\">\n<title>CTTG</title>\n<ellipse cx=\"35.7468\" cy=\"-450\" fill=\"none\" rx=\"35.9954\" ry=\"18\" stroke=\"#000000\"/>\n<text fill=\"#000000\" font-family=\"Times,serif\" font-size=\"14.00\" text-anchor=\"middle\" x=\"35.7468\" y=\"-446.3\">CTTG</text>\n</g>\n<!-- ACTT&#45;&gt;CTTG -->\n<g class=\"edge\" id=\"edge2\">\n<title>ACTT-&gt;CTTG</title>\n<path d=\"M105.4352,-506.3771C92.988,-496.3075 76.6205,-483.0663 62.8757,-471.947\" fill=\"none\" stroke=\"#000000\"/>\n<polygon fill=\"#000000\" points=\"64.6909,-468.9135 54.7151,-465.3451 60.2882,-474.3557 64.6909,-468.9135\" stroke=\"#000000\"/>\n</g>\n<!-- CTTA -->\n<g class=\"node\" id=\"node8\">\n<title>CTTA</title>\n<ellipse cx=\"124.7468\" cy=\"-450\" fill=\"none\" rx=\"35.194\" ry=\"18\" stroke=\"#000000\"/>\n<text fill=\"#000000\" font-family=\"Times,serif\" font-size=\"14.00\" text-anchor=\"middle\" x=\"124.7468\" y=\"-446.3\">CTTA</text>\n</g>\n<!-- ACTT&#45;&gt;CTTA -->\n<g class=\"edge\" id=\"edge1\">\n<title>ACTT-&gt;CTTA</title>\n<path d=\"M124.7468,-503.8314C124.7468,-496.131 124.7468,-486.9743 124.7468,-478.4166\" fill=\"none\" stroke=\"#000000\"/>\n<polygon fill=\"#000000\" points=\"128.2469,-478.4132 124.7468,-468.4133 121.2469,-478.4133 128.2469,-478.4132\" stroke=\"#000000\"/>\n</g>\n<!-- TTAC -->\n<g class=\"node\" id=\"node2\">\n<title>TTAC</title>\n<ellipse cx=\"124.7468\" cy=\"-378\" fill=\"none\" rx=\"35.194\" ry=\"18\" stroke=\"#000000\"/>\n<text fill=\"#000000\" font-family=\"Times,serif\" font-size=\"14.00\" text-anchor=\"middle\" x=\"124.7468\" y=\"-374.3\">TTAC</text>\n</g>\n<!-- TACG -->\n<g class=\"node\" id=\"node6\">\n<title>TACG</title>\n<ellipse cx=\"123.7468\" cy=\"-306\" fill=\"none\" rx=\"36.2938\" ry=\"18\" stroke=\"#000000\"/>\n<text fill=\"#000000\" font-family=\"Times,serif\" font-size=\"14.00\" text-anchor=\"middle\" x=\"123.7468\" y=\"-302.3\">TACG</text>\n</g>\n<!-- TTAC&#45;&gt;TACG -->\n<g class=\"edge\" id=\"edge4\">\n<title>TTAC-&gt;TACG</title>\n<path d=\"M124.4945,-359.8314C124.3875,-352.131 124.2604,-342.9743 124.1415,-334.4166\" fill=\"none\" stroke=\"#000000\"/>\n<polygon fill=\"#000000\" points=\"127.6412,-334.3637 124.0026,-324.4133 120.6419,-334.4609 127.6412,-334.3637\" stroke=\"#000000\"/>\n</g>\n<!-- CGTA -->\n<g class=\"node\" id=\"node4\">\n<title>CGTA</title>\n<ellipse cx=\"123.7468\" cy=\"-162\" fill=\"none\" rx=\"36.2938\" ry=\"18\" stroke=\"#000000\"/>\n<text fill=\"#000000\" font-family=\"Times,serif\" font-size=\"14.00\" text-anchor=\"middle\" x=\"123.7468\" y=\"-158.3\">CGTA</text>\n</g>\n<!-- GTAC -->\n<g class=\"node\" id=\"node7\">\n<title>GTAC</title>\n<ellipse cx=\"123.7468\" cy=\"-90\" fill=\"none\" rx=\"36.2938\" ry=\"18\" stroke=\"#000000\"/>\n<text fill=\"#000000\" font-family=\"Times,serif\" font-size=\"14.00\" text-anchor=\"middle\" x=\"123.7468\" y=\"-86.3\">GTAC</text>\n</g>\n<!-- CGTA&#45;&gt;GTAC -->\n<g class=\"edge\" id=\"edge7\">\n<title>CGTA-&gt;GTAC</title>\n<path d=\"M123.7468,-143.8314C123.7468,-136.131 123.7468,-126.9743 123.7468,-118.4166\" fill=\"none\" stroke=\"#000000\"/>\n<polygon fill=\"#000000\" points=\"127.2469,-118.4132 123.7468,-108.4133 120.2469,-118.4133 127.2469,-118.4132\" stroke=\"#000000\"/>\n</g>\n<!-- ACGT -->\n<g class=\"node\" id=\"node5\">\n<title>ACGT</title>\n<ellipse cx=\"123.7468\" cy=\"-234\" fill=\"none\" rx=\"36.2938\" ry=\"18\" stroke=\"#000000\"/>\n<text fill=\"#000000\" font-family=\"Times,serif\" font-size=\"14.00\" text-anchor=\"middle\" x=\"123.7468\" y=\"-230.3\">ACGT</text>\n</g>\n<!-- ACGT&#45;&gt;CGTA -->\n<g class=\"edge\" id=\"edge6\">\n<title>ACGT-&gt;CGTA</title>\n<path d=\"M123.7468,-215.8314C123.7468,-208.131 123.7468,-198.9743 123.7468,-190.4166\" fill=\"none\" stroke=\"#000000\"/>\n<polygon fill=\"#000000\" points=\"127.2469,-190.4132 123.7468,-180.4133 120.2469,-190.4133 127.2469,-190.4132\" stroke=\"#000000\"/>\n</g>\n<!-- TACG&#45;&gt;ACGT -->\n<g class=\"edge\" id=\"edge5\">\n<title>TACG-&gt;ACGT</title>\n<path d=\"M123.7468,-287.8314C123.7468,-280.131 123.7468,-270.9743 123.7468,-262.4166\" fill=\"none\" stroke=\"#000000\"/>\n<polygon fill=\"#000000\" points=\"127.2469,-262.4132 123.7468,-252.4133 120.2469,-262.4133 127.2469,-262.4132\" stroke=\"#000000\"/>\n</g>\n<!-- TACT -->\n<g class=\"node\" id=\"node9\">\n<title>TACT</title>\n<ellipse cx=\"155.7468\" cy=\"-18\" fill=\"none\" rx=\"35.194\" ry=\"18\" stroke=\"#000000\"/>\n<text fill=\"#000000\" font-family=\"Times,serif\" font-size=\"14.00\" text-anchor=\"middle\" x=\"155.7468\" y=\"-14.3\">TACT</text>\n</g>\n<!-- GTAC&#45;&gt;TACT -->\n<g class=\"edge\" id=\"edge8\">\n<title>GTAC-&gt;TACT</title>\n<path d=\"M131.6569,-72.2022C135.2996,-64.0064 139.7013,-54.1024 143.7404,-45.0145\" fill=\"none\" stroke=\"#000000\"/>\n<polygon fill=\"#000000\" points=\"147.0646,-46.1527 147.9277,-35.593 140.6679,-43.3096 147.0646,-46.1527\" stroke=\"#000000\"/>\n</g>\n<!-- CTTA&#45;&gt;TTAC -->\n<g class=\"edge\" id=\"edge3\">\n<title>CTTA-&gt;TTAC</title>\n<path d=\"M124.7468,-431.8314C124.7468,-424.131 124.7468,-414.9743 124.7468,-406.4166\" fill=\"none\" stroke=\"#000000\"/>\n<polygon fill=\"#000000\" points=\"128.2469,-406.4132 124.7468,-396.4133 121.2469,-406.4133 128.2469,-406.4132\" stroke=\"#000000\"/>\n</g>\n<!-- TACT&#45;&gt;ACTT -->\n<g class=\"edge\" id=\"edge9\">\n<title>TACT-&gt;ACTT</title>\n<path d=\"M162.3772,-35.9012C171.7502,-62.8549 187.7468,-115.6462 187.7468,-162 187.7468,-378 187.7468,-378 187.7468,-378 187.7468,-418.8816 186.3772,-431.1153 168.7468,-468 163.5561,-478.8596 155.7505,-489.4376 148.148,-498.3114\" fill=\"none\" stroke=\"#000000\"/>\n<polygon fill=\"#000000\" points=\"145.3762,-496.1599 141.3041,-505.9409 150.5869,-500.8341 145.3762,-496.1599\" stroke=\"#000000\"/>\n</g>\n</g>\n</svg>"
          },
          "metadata": {}
        }
      ]
    },
    {
      "cell_type": "code",
      "source": [
        "seq2 = \"ACTTACTTACT\"\n",
        "APPEND(g, occs, curidx, seq2, 5, rlookup)"
      ],
      "metadata": {
        "id": "ejX0OEpc8kc4"
      },
      "execution_count": 19,
      "outputs": []
    },
    {
      "cell_type": "code",
      "source": [
        "get_ipython().magic(u'dotstr visualize_debruijn(g)')"
      ],
      "metadata": {
        "colab": {
          "base_uri": "https://localhost:8080/",
          "height": 752
        },
        "id": "uWiIgNfoFdQ2",
        "outputId": "6bed1325-3fa1-4807-f7b9-43b901788c1f"
      },
      "execution_count": 20,
      "outputs": [
        {
          "output_type": "display_data",
          "data": {
            "text/plain": [
              "<IPython.core.display.SVG object>"
            ],
            "image/svg+xml": "<svg height=\"548pt\" viewBox=\"0.00 0.00 195.75 548.00\" width=\"196pt\" xmlns=\"http://www.w3.org/2000/svg\" xmlns:xlink=\"http://www.w3.org/1999/xlink\">\n<g class=\"graph\" id=\"graph0\" transform=\"scale(1 1) rotate(0) translate(4 544)\">\n<title>DeBruijn graph</title>\n<polygon fill=\"#ffffff\" points=\"-4,4 -4,-544 191.7468,-544 191.7468,4 -4,4\" stroke=\"transparent\"/>\n<!-- ACTT -->\n<g class=\"node\" id=\"node1\">\n<title>ACTT</title>\n<ellipse cx=\"124.7468\" cy=\"-522\" fill=\"none\" rx=\"35.9954\" ry=\"18\" stroke=\"#000000\"/>\n<text fill=\"#000000\" font-family=\"Times,serif\" font-size=\"14.00\" text-anchor=\"middle\" x=\"124.7468\" y=\"-518.3\">ACTT</text>\n</g>\n<!-- CTTG -->\n<g class=\"node\" id=\"node3\">\n<title>CTTG</title>\n<ellipse cx=\"35.7468\" cy=\"-450\" fill=\"none\" rx=\"35.9954\" ry=\"18\" stroke=\"#000000\"/>\n<text fill=\"#000000\" font-family=\"Times,serif\" font-size=\"14.00\" text-anchor=\"middle\" x=\"35.7468\" y=\"-446.3\">CTTG</text>\n</g>\n<!-- ACTT&#45;&gt;CTTG -->\n<g class=\"edge\" id=\"edge2\">\n<title>ACTT-&gt;CTTG</title>\n<path d=\"M105.4352,-506.3771C92.988,-496.3075 76.6205,-483.0663 62.8757,-471.947\" fill=\"none\" stroke=\"#000000\"/>\n<polygon fill=\"#000000\" points=\"64.6909,-468.9135 54.7151,-465.3451 60.2882,-474.3557 64.6909,-468.9135\" stroke=\"#000000\"/>\n</g>\n<!-- CTTA -->\n<g class=\"node\" id=\"node8\">\n<title>CTTA</title>\n<ellipse cx=\"124.7468\" cy=\"-450\" fill=\"none\" rx=\"35.194\" ry=\"18\" stroke=\"#000000\"/>\n<text fill=\"#000000\" font-family=\"Times,serif\" font-size=\"14.00\" text-anchor=\"middle\" x=\"124.7468\" y=\"-446.3\">CTTA</text>\n</g>\n<!-- ACTT&#45;&gt;CTTA -->\n<g class=\"edge\" id=\"edge1\">\n<title>ACTT-&gt;CTTA</title>\n<path d=\"M124.7468,-503.8314C124.7468,-496.131 124.7468,-486.9743 124.7468,-478.4166\" fill=\"none\" stroke=\"#000000\"/>\n<polygon fill=\"#000000\" points=\"128.2469,-478.4132 124.7468,-468.4133 121.2469,-478.4133 128.2469,-478.4132\" stroke=\"#000000\"/>\n</g>\n<!-- TTAC -->\n<g class=\"node\" id=\"node2\">\n<title>TTAC</title>\n<ellipse cx=\"124.7468\" cy=\"-378\" fill=\"none\" rx=\"35.194\" ry=\"18\" stroke=\"#000000\"/>\n<text fill=\"#000000\" font-family=\"Times,serif\" font-size=\"14.00\" text-anchor=\"middle\" x=\"124.7468\" y=\"-374.3\">TTAC</text>\n</g>\n<!-- TACG -->\n<g class=\"node\" id=\"node6\">\n<title>TACG</title>\n<ellipse cx=\"85.7468\" cy=\"-306\" fill=\"none\" rx=\"36.2938\" ry=\"18\" stroke=\"#000000\"/>\n<text fill=\"#000000\" font-family=\"Times,serif\" font-size=\"14.00\" text-anchor=\"middle\" x=\"85.7468\" y=\"-302.3\">TACG</text>\n</g>\n<!-- TTAC&#45;&gt;TACG -->\n<g class=\"edge\" id=\"edge4\">\n<title>TTAC-&gt;TACG</title>\n<path d=\"M115.306,-360.5708C110.741,-352.1431 105.1631,-341.8455 100.0877,-332.4755\" fill=\"none\" stroke=\"#000000\"/>\n<polygon fill=\"#000000\" points=\"103.0763,-330.6442 95.2359,-323.5182 96.9212,-333.9782 103.0763,-330.6442\" stroke=\"#000000\"/>\n</g>\n<!-- TACT -->\n<g class=\"node\" id=\"node9\">\n<title>TACT</title>\n<ellipse cx=\"149.7468\" cy=\"-18\" fill=\"none\" rx=\"35.194\" ry=\"18\" stroke=\"#000000\"/>\n<text fill=\"#000000\" font-family=\"Times,serif\" font-size=\"14.00\" text-anchor=\"middle\" x=\"149.7468\" y=\"-14.3\">TACT</text>\n</g>\n<!-- TTAC&#45;&gt;TACT -->\n<g class=\"edge\" id=\"edge5\">\n<title>TTAC-&gt;TACT</title>\n<path d=\"M129.9268,-359.9889C137.2495,-332.8949 149.7468,-279.9269 149.7468,-234 149.7468,-234 149.7468,-234 149.7468,-162 149.7468,-121.876 149.7468,-75.4631 149.7468,-46.4177\" fill=\"none\" stroke=\"#000000\"/>\n<polygon fill=\"#000000\" points=\"153.2469,-46.1853 149.7468,-36.1854 146.2469,-46.1854 153.2469,-46.1853\" stroke=\"#000000\"/>\n</g>\n<!-- CGTA -->\n<g class=\"node\" id=\"node4\">\n<title>CGTA</title>\n<ellipse cx=\"85.7468\" cy=\"-162\" fill=\"none\" rx=\"36.2938\" ry=\"18\" stroke=\"#000000\"/>\n<text fill=\"#000000\" font-family=\"Times,serif\" font-size=\"14.00\" text-anchor=\"middle\" x=\"85.7468\" y=\"-158.3\">CGTA</text>\n</g>\n<!-- GTAC -->\n<g class=\"node\" id=\"node7\">\n<title>GTAC</title>\n<ellipse cx=\"85.7468\" cy=\"-90\" fill=\"none\" rx=\"36.2938\" ry=\"18\" stroke=\"#000000\"/>\n<text fill=\"#000000\" font-family=\"Times,serif\" font-size=\"14.00\" text-anchor=\"middle\" x=\"85.7468\" y=\"-86.3\">GTAC</text>\n</g>\n<!-- CGTA&#45;&gt;GTAC -->\n<g class=\"edge\" id=\"edge8\">\n<title>CGTA-&gt;GTAC</title>\n<path d=\"M85.7468,-143.8314C85.7468,-136.131 85.7468,-126.9743 85.7468,-118.4166\" fill=\"none\" stroke=\"#000000\"/>\n<polygon fill=\"#000000\" points=\"89.2469,-118.4132 85.7468,-108.4133 82.2469,-118.4133 89.2469,-118.4132\" stroke=\"#000000\"/>\n</g>\n<!-- ACGT -->\n<g class=\"node\" id=\"node5\">\n<title>ACGT</title>\n<ellipse cx=\"85.7468\" cy=\"-234\" fill=\"none\" rx=\"36.2938\" ry=\"18\" stroke=\"#000000\"/>\n<text fill=\"#000000\" font-family=\"Times,serif\" font-size=\"14.00\" text-anchor=\"middle\" x=\"85.7468\" y=\"-230.3\">ACGT</text>\n</g>\n<!-- ACGT&#45;&gt;CGTA -->\n<g class=\"edge\" id=\"edge7\">\n<title>ACGT-&gt;CGTA</title>\n<path d=\"M85.7468,-215.8314C85.7468,-208.131 85.7468,-198.9743 85.7468,-190.4166\" fill=\"none\" stroke=\"#000000\"/>\n<polygon fill=\"#000000\" points=\"89.2469,-190.4132 85.7468,-180.4133 82.2469,-190.4133 89.2469,-190.4132\" stroke=\"#000000\"/>\n</g>\n<!-- TACG&#45;&gt;ACGT -->\n<g class=\"edge\" id=\"edge6\">\n<title>TACG-&gt;ACGT</title>\n<path d=\"M85.7468,-287.8314C85.7468,-280.131 85.7468,-270.9743 85.7468,-262.4166\" fill=\"none\" stroke=\"#000000\"/>\n<polygon fill=\"#000000\" points=\"89.2469,-262.4132 85.7468,-252.4133 82.2469,-262.4133 89.2469,-262.4132\" stroke=\"#000000\"/>\n</g>\n<!-- GTAC&#45;&gt;TACT -->\n<g class=\"edge\" id=\"edge9\">\n<title>GTAC-&gt;TACT</title>\n<path d=\"M100.5906,-73.3008C108.8298,-64.0317 119.2233,-52.339 128.3287,-42.0954\" fill=\"none\" stroke=\"#000000\"/>\n<polygon fill=\"#000000\" points=\"130.9558,-44.4081 134.9836,-34.6087 125.724,-39.7575 130.9558,-44.4081\" stroke=\"#000000\"/>\n</g>\n<!-- CTTA&#45;&gt;TTAC -->\n<g class=\"edge\" id=\"edge3\">\n<title>CTTA-&gt;TTAC</title>\n<path d=\"M124.7468,-431.8314C124.7468,-424.131 124.7468,-414.9743 124.7468,-406.4166\" fill=\"none\" stroke=\"#000000\"/>\n<polygon fill=\"#000000\" points=\"128.2469,-406.4132 124.7468,-396.4133 121.2469,-406.4133 128.2469,-406.4132\" stroke=\"#000000\"/>\n</g>\n<!-- TACT&#45;&gt;ACTT -->\n<g class=\"edge\" id=\"edge10\">\n<title>TACT-&gt;ACTT</title>\n<path d=\"M157.6205,-35.7865C168.7509,-62.5941 187.7468,-115.201 187.7468,-162 187.7468,-378 187.7468,-378 187.7468,-378 187.7468,-418.8816 186.3772,-431.1153 168.7468,-468 163.5561,-478.8596 155.7505,-489.4376 148.148,-498.3114\" fill=\"none\" stroke=\"#000000\"/>\n<polygon fill=\"#000000\" points=\"145.3762,-496.1599 141.3041,-505.9409 150.5869,-500.8341 145.3762,-496.1599\" stroke=\"#000000\"/>\n</g>\n</g>\n</svg>"
          },
          "metadata": {}
        }
      ]
    },
    {
      "cell_type": "code",
      "source": [
        ""
      ],
      "metadata": {
        "id": "r2oS-VC9bd1o"
      },
      "execution_count": null,
      "outputs": []
    }
  ]
}